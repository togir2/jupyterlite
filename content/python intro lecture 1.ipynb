{
  "metadata": {
    "kernelspec": {
      "name": "python",
      "display_name": "Python (Pyodide)",
      "language": "python"
    },
    "language_info": {
      "codemirror_mode": {
        "name": "python",
        "version": 3
      },
      "file_extension": ".py",
      "mimetype": "text/x-python",
      "name": "python",
      "nbconvert_exporter": "python",
      "pygments_lexer": "ipython3",
      "version": "3.8"
    }
  },
  "nbformat_minor": 4,
  "nbformat": 4,
  "cells": [
    {
      "cell_type": "markdown",
      "source": "# Introduction to Python\n## Overview\n* Lesson 1 - Oct. 24th (today): Setting up a python environment with Anaconda and using Jupyter notebook\n* **Zoom lecture by Prof. Müller** - Oct 26 th (**Thursday**)\n* Tutorial 1 - Oct. 27th (Friday): Solution to the first exercise sheet\n* Lesson 2 - Oct. 31st (next Tuesday): preprocessing, evaluation, visualisation and random number generators\n* Lesson 3 - Nov. 2nd (next Thursday): training neural networks using PyTorch",
      "metadata": {
        "slideshow": {
          "slide_type": "slide"
        }
      }
    },
    {
      "cell_type": "markdown",
      "source": "## What is the purpose of these lessons?\n* We expect students to be able to comfortably use Python already - for those who need to catch up, we offer this additional intro course.\n* There will be programming exercises, but they are awarded less points than the manual exercises.\n* The notebooks will be uploaded to moodle. ",
      "metadata": {
        "slideshow": {
          "slide_type": "subslide"
        }
      }
    },
    {
      "cell_type": "markdown",
      "source": "## Repetition: What is Python?\n* object-oriented, high-level programming language\n* Interpreted language --> just-in-time compiler $^0$ \n    * you can change your code as you go (-> patching)\n    * compile-time errors will only be detected once code is used\n* This extra step at run-time makes Python programs slow\n    * when Python programs do complicated calculations fast, they typically use `C`-code internally (-> numpy)\n\n---\n$^0$ pre-compiled Python code (byte code) exists as well (`.pyc`)  ",
      "metadata": {
        "slideshow": {
          "slide_type": "subslide"
        }
      }
    },
    {
      "cell_type": "markdown",
      "source": "# Python for Data Analytics\n\n## Virtual environments and package managing\nPython packages often depend on many other python packages in turn. These relationships can quickly become too complex to maintain by hand. There are many package managers that take this burden off the user. We recommend using the Anaconda tool in the open-source [individual edition](https://www.anaconda.com/products/individual). You can browse available packages on [Anaconda.org](https://anaconda.org/).\n\n### Why do virtual environments matter?\nDeveloping different projects on the same machine often requires installing and keeping different versions of the same package. Virtual environments allow to isolate those different versions and execute python programs in an environment that contains the required packages with all their dependencies.",
      "metadata": {
        "slideshow": {
          "slide_type": "slide"
        }
      }
    },
    {
      "cell_type": "markdown",
      "source": "### Creating a virtual environment\nTo create a new empty environment called *bda_empty*, start up an Anaconda command prompt and enter the following:\n```\n(base) > conda create --name bda_empty\n```",
      "metadata": {
        "slideshow": {
          "slide_type": "slide"
        }
      }
    },
    {
      "cell_type": "markdown",
      "source": "While it is possible to install packages into an existing environment, it is recommended to specify all required packages at creation time $^1$. So let's try this again: In this case, we will install some python packages commonly used for scientific programming: `scikit-learn`, `pandas` and `plotly`, as well as `nbformat` which plotly requires for the 3D scatter plot at the bottom. `ipykernel` is needed to have a Python kernel to use with Jupyter notebooks, more on that later. We also direct Anaconda to look for these packages in the channel `conda-forge`:",
      "metadata": {
        "slideshow": {
          "slide_type": "fragment"
        }
      }
    },
    {
      "cell_type": "markdown",
      "source": "```\n(base) > conda create -n bda scikit-learn pandas plotly nbformat ipykernel -c conda-forge\n``` ",
      "metadata": {
        "slideshow": {
          "slide_type": "fragment"
        }
      }
    },
    {
      "cell_type": "markdown",
      "source": "Missing something? The popular scientific computing packages `numpy` and `scipy` will be installed implicitly as dependencies of  `scikit-learn`, so unless we want to specify the version of `numpy` and `scipy`, we don't have to list them in the command.\n\n---\n$^1$ _A common problem is that Anaconda will choose a python version that is too new for some of the packages that one may later attempt to install. When specifying all required packages at environment creation time, Anaconda can determine the appropriate version of python or other implicitly installed packages._",
      "metadata": {
        "slideshow": {
          "slide_type": "fragment"
        }
      }
    },
    {
      "cell_type": "markdown",
      "source": "Note how the command prompt changes after creating the new environment:\n```\n(bda) >\n```\nThis means that the currently active Anaconda environment is `bda`. ",
      "metadata": {
        "slideshow": {
          "slide_type": "subslide"
        }
      }
    },
    {
      "cell_type": "markdown",
      "source": "If you open a new Anaconda prompt, it will default to using the `base` environment. To switch to the environment where we have all the packages installed for our experiments, type the following:\n```\n(base) > conda activate bda\n(bda)  > \n```",
      "metadata": {
        "slideshow": {
          "slide_type": "fragment"
        }
      }
    },
    {
      "cell_type": "markdown",
      "source": "## Anaconda, but fast?\nA final remark on the package manager: If you try to create complex environments with many sub-dependencies, Anaconda may run for a long time (think, an hour) only to find that there are incompatible package requests in your query. For such cases, `mamba` was created: a reimplementation of the conda package manager in C++. It uses `libsolv` for much faster dependency solving.\n* there is `mamba` as a drop-in-replacement of `conda`\n* and `micromamba` as a drop-in-replacement of `miniconda`\n* both have additional features on top of `conda` that may be interesting for advanced use cases.\n\nSee [Mamba's documentation](https://mamba.readthedocs.io/en/latest/index.html) and [github](https://github.com/mamba-org/mamba) pages.",
      "metadata": {
        "slideshow": {
          "slide_type": "slide"
        }
      }
    },
    {
      "cell_type": "markdown",
      "source": "## Jupyter Notebook\n> The Jupyter Notebook is an open-source web application that allows you to create and share documents that contain live code, equations, visualizations and narrative text.\n \n(source: [jupyter.org](https://jupyter.org))\n\nThe Jupyter Notebook supports many programming languages, including python. It allows you to run a python script in segments, contained in code cells, instead of running the whole script at once. Because cells can not only contain program code, but `markdown` (formatted text) as well Jupyter Notebooks can also be used to document results and explain the code. This document here is a Jupyter notebook as well. Its file ending is `.ipynb`.",
      "metadata": {
        "slideshow": {
          "slide_type": "slide"
        }
      }
    },
    {
      "cell_type": "markdown",
      "source": "### Running a Jupyter Notebook\nIn order to interact with your Jupyter notebook, you need to connect to a jupyter server. To start up your own server, type:\n```\n(base) > jupyter notebook\n```",
      "metadata": {
        "slideshow": {
          "slide_type": "subslide"
        }
      }
    },
    {
      "cell_type": "markdown",
      "source": "This will start a web server on your local machine and open a new tab in your browser showing the Jupyter GUI. Navigate to the notebook file you want to open or create a new file. Note: _you may want to navigate to the root folder of your notebooks in the command line before starting the jupyter server._",
      "metadata": {
        "slideshow": {
          "slide_type": "fragment"
        }
      }
    },
    {
      "cell_type": "markdown",
      "source": "Another popular choice is the Visual Studio Code IDE, which now comes with built-in support for jupyter notebooks. Follow the steps below to install the `ipykernel` package in your environment if you want to use this tool.",
      "metadata": {
        "slideshow": {
          "slide_type": "fragment"
        }
      }
    },
    {
      "cell_type": "markdown",
      "source": "### Handling multiple environments\nIt is considered best practice to install the `notebook` package only into one environment. This package provides the functionality to run a Jupyter notebook server that let's you display notebooks and run their code. ",
      "metadata": {
        "slideshow": {
          "slide_type": "subslide"
        }
      }
    },
    {
      "cell_type": "markdown",
      "source": "Most practitioners choose to install the notebook server into their `base` conda environment. The Anaconda base environment usually even comes with the Jupyter server pre-installed $^2$.",
      "metadata": {
        "slideshow": {
          "slide_type": "fragment"
        }
      }
    },
    {
      "cell_type": "markdown",
      "source": "Initially, users can only use packages (that includes Python libraries) installed into the same environment as the `notebook` package. In order to be able to use different environments for your notebooks, we'll install the package `nb_conda_kernels` into the same environment:\n\n```\n(base) > conda install nb_conda_kernels\n```\n\n---\n$^2$ _to verify, run the command_ `pip show notebook` _in the environment. This should either return information about the installed version or a warning stating that the package has not been found._",
      "metadata": {
        "slideshow": {
          "slide_type": "fragment"
        }
      }
    },
    {
      "cell_type": "markdown",
      "source": "This will allow automatically detecting any environment with the `ipykernel` package installed and making them available as so called `kernel`s. They will have the same name as their environment.\n",
      "metadata": {
        "slideshow": {
          "slide_type": "subslide"
        }
      }
    },
    {
      "cell_type": "markdown",
      "source": "Fortunately, we have already installed this package into our development environment `bda`. So, after starting up a jupyter server in the `base` environment (starts a local web server), we should be able to choose the kernel `bda` through the web-interface by clicking in the top-right corner of the page (also in VS Code):\n\n```\n(base) > jupyter notebook\n```",
      "metadata": {
        "slideshow": {
          "slide_type": "fragment"
        }
      }
    },
    {
      "cell_type": "markdown",
      "source": "### Executing code\nNow that we have a jupyter notebook with a running kernel, let's execute some code! Press `shift`+`enter` keys after focusing on a code cell: ",
      "metadata": {
        "slideshow": {
          "slide_type": "slide"
        }
      }
    },
    {
      "cell_type": "code",
      "source": "print(\"Hello Python!\")",
      "metadata": {
        "slideshow": {
          "slide_type": "fragment"
        }
      },
      "execution_count": 1,
      "outputs": [
        {
          "name": "stdout",
          "output_type": "stream",
          "text": "Hello Python!\n"
        }
      ]
    },
    {
      "cell_type": "markdown",
      "source": "Note the little number in brackets next to the code cell indicating the sequence number. Remember that the execution sequence does still matter, even when the position of the cell inside the notebook does not. Also take care when defining global variables in a notebook!",
      "metadata": {
        "slideshow": {
          "slide_type": "fragment"
        }
      }
    },
    {
      "cell_type": "code",
      "source": "a = 1\n\ndef add_one():\n    return a + 1",
      "metadata": {
        "code_folding": [],
        "slideshow": {
          "slide_type": "skip"
        }
      },
      "execution_count": 2,
      "outputs": []
    },
    {
      "cell_type": "code",
      "source": "add_one()",
      "metadata": {
        "slideshow": {
          "slide_type": "skip"
        }
      },
      "execution_count": 5,
      "outputs": [
        {
          "execution_count": 5,
          "output_type": "execute_result",
          "data": {
            "text/plain": [
              "4"
            ]
          },
          "metadata": {}
        }
      ]
    },
    {
      "cell_type": "markdown",
      "source": "Let's change the value of the global variable `a` and execute above line of code once more:",
      "metadata": {
        "slideshow": {
          "slide_type": "skip"
        }
      }
    },
    {
      "cell_type": "code",
      "source": "a = 3\n\nadd_one()",
      "metadata": {
        "slideshow": {
          "slide_type": "skip"
        }
      },
      "execution_count": 4,
      "outputs": [
        {
          "execution_count": 4,
          "output_type": "execute_result",
          "data": {
            "text/plain": [
              "4"
            ]
          },
          "metadata": {}
        }
      ]
    },
    {
      "cell_type": "markdown",
      "source": "The cells' output is persistent in Jupyter, i.e. if we save the notebook now and open it back up later, all the results will still be visible, even if no code was executed and the context no longer exists.",
      "metadata": {
        "slideshow": {
          "slide_type": "skip"
        }
      }
    },
    {
      "cell_type": "markdown",
      "source": "## Data manipulation in Python ",
      "metadata": {
        "slideshow": {
          "slide_type": "skip"
        }
      }
    },
    {
      "cell_type": "code",
      "source": "import numpy as np\nimport timeit  # this provides the \"cell magic\" command timeit. Use with `%%timeit` at the beginning of the cell to measure the runtime.\n\ndef analyze_arr(arr: np.ndarray):\n    assert type(arr) == np.ndarray, f\"Expected a numpy array as input, got {type(arr)} instead.\"\n    print(f\"This numpy array has shape {arr.shape} and data type {arr.dtype}.\")",
      "metadata": {
        "slideshow": {
          "slide_type": "skip"
        }
      },
      "execution_count": 6,
      "outputs": []
    },
    {
      "cell_type": "markdown",
      "source": "Next, we are getting familiar with numpy arrays by looking at different ways to create a one-dimensional array of size 100 with the constant value $-1$. \n\nWe are going to use the `%%timeit` cell magic to get some *qualitative* results on how these methods compare in terms of runtime. Note that as with all good magic, a lot more is happening behind the curtains than the eye can see. For the purpose of this comparison: the `%%timeit` command has to be in the very first line of the cell to be recognized as *cell magic*. This will result in the cell's code being executed multiple times and the average time that took being printed. While the code in the cell can use packages imported elsewhere in the notebook, any variables only exist in the context of this cell and cannot be retrieved after execution of this cell has stopped. Click [here](https://ipython.readthedocs.io/en/stable/interactive/magics.html#magic-timeit) to learn more.",
      "metadata": {
        "slideshow": {
          "slide_type": "skip"
        }
      }
    },
    {
      "cell_type": "code",
      "source": "%%timeit\n# create an uninitialized numpy array with 100 elements and assign the value -1 to each of them. Measure the run time.\n\n_empty = np.empty((100,))\n_empty[:] = -1",
      "metadata": {
        "code_folding": [],
        "slideshow": {
          "slide_type": "skip"
        }
      },
      "execution_count": 12,
      "outputs": [
        {
          "name": "stdout",
          "output_type": "stream",
          "text": "1.02 µs ± 91 ns per loop (mean ± std. dev. of 7 runs, 1,000,000 loops each)\n"
        }
      ]
    },
    {
      "cell_type": "code",
      "source": "analyze_arr(_empty)",
      "metadata": {
        "slideshow": {
          "slide_type": "skip"
        }
      },
      "execution_count": 15,
      "outputs": []
    },
    {
      "cell_type": "code",
      "source": "%%timeit\n# create a numpy array initialized with 100 elements of the value -1. Measure the run time.\n\n_full = np.full((100,), -1)",
      "metadata": {
        "code_folding": [],
        "slideshow": {
          "slide_type": "skip"
        }
      },
      "execution_count": 16,
      "outputs": [
        {
          "name": "stdout",
          "output_type": "stream",
          "text": "2.37 µs ± 332 ns per loop (mean ± std. dev. of 7 runs, 100,000 loops each)\n"
        }
      ]
    },
    {
      "cell_type": "code",
      "source": "%%timeit\n# create a numpy array initialized with 100 ones. Then assign the value -1 to each element. Measure the run time.\n\n_ones = np.ones((100,))\n_ones[:] = -1",
      "metadata": {
        "code_folding": [],
        "slideshow": {
          "slide_type": "skip"
        }
      },
      "execution_count": 17,
      "outputs": [
        {
          "name": "stdout",
          "output_type": "stream",
          "text": "3.06 µs ± 466 ns per loop (mean ± std. dev. of 7 runs, 100,000 loops each)\n"
        }
      ]
    },
    {
      "cell_type": "code",
      "source": "%%timeit\n# create a numpy array initialized with 100 ones. Then assign the value by multiplying each element with -1. Measure the run time.\n\n_mult = np.ones((100,))\n_mult = _mult * -1",
      "metadata": {
        "code_folding": [],
        "slideshow": {
          "slide_type": "skip"
        }
      },
      "execution_count": 18,
      "outputs": [
        {
          "name": "stdout",
          "output_type": "stream",
          "text": "5.22 µs ± 683 ns per loop (mean ± std. dev. of 7 runs, 100,000 loops each)\n"
        }
      ]
    },
    {
      "cell_type": "code",
      "source": "%%timeit\n# create a numpy array initialized with 100 zeros. Then assign the value -1 to each element. Measure the run time.\n\n_zeros = np.zeros((100,))\n_zeros[:] = -1",
      "metadata": {
        "code_folding": [],
        "slideshow": {
          "slide_type": "skip"
        }
      },
      "execution_count": 19,
      "outputs": [
        {
          "name": "stdout",
          "output_type": "stream",
          "text": "1.09 µs ± 120 ns per loop (mean ± std. dev. of 7 runs, 1,000,000 loops each)\n"
        }
      ]
    },
    {
      "cell_type": "markdown",
      "source": "Why are two of these approaches much faster than the rest? Because they are [implemented in C](https://github.com/numpy/numpy/blob/v1.26.0/numpy/core/src/multiarray/multiarraymodule.c)! The [documentation](https://numpy.org/doc/stable/reference/generated/numpy.ones.html) also includes links to the source code for the respective function. ",
      "metadata": {
        "slideshow": {
          "slide_type": "skip"
        }
      }
    },
    {
      "cell_type": "markdown",
      "source": "### Pandas DataFrames\n\nNow, we are going to look at manipulating a large pandas `DataFrame` element by element. Our dataframe has 100,000 rows.",
      "metadata": {
        "slideshow": {
          "slide_type": "skip"
        }
      }
    },
    {
      "cell_type": "code",
      "source": "import numpy as np\nimport pandas as pd\n\n# initialize a new random number generator instance\nrng = np.random.default_rng()\n\ndf = pd.DataFrame({\n    'rand_a':rng.integers(low=1, high=100, size=100000),\n    'rand_b':rng.integers(low=100, high=1000, size=100000),\n    'rand_c':rng.integers(low=1000, high=10000, size=100000)\n})\ndf",
      "metadata": {
        "slideshow": {
          "slide_type": "skip"
        },
        "trusted": true
      },
      "execution_count": 1,
      "outputs": [
        {
          "execution_count": 1,
          "output_type": "execute_result",
          "data": {
            "text/plain": "       rand_a  rand_b  rand_c\n0          35     815    4468\n1          29     521    1028\n2          11     824    9358\n3          36     959    6187\n4          75     456    4016\n...       ...     ...     ...\n99995      79     761    8817\n99996      30     552    1773\n99997      10     813    6158\n99998      29     266    2864\n99999      41     201    7175\n\n[100000 rows x 3 columns]",
            "text/html": "<div>\n<style scoped>\n    .dataframe tbody tr th:only-of-type {\n        vertical-align: middle;\n    }\n\n    .dataframe tbody tr th {\n        vertical-align: top;\n    }\n\n    .dataframe thead th {\n        text-align: right;\n    }\n</style>\n<table border=\"1\" class=\"dataframe\">\n  <thead>\n    <tr style=\"text-align: right;\">\n      <th></th>\n      <th>rand_a</th>\n      <th>rand_b</th>\n      <th>rand_c</th>\n    </tr>\n  </thead>\n  <tbody>\n    <tr>\n      <th>0</th>\n      <td>35</td>\n      <td>815</td>\n      <td>4468</td>\n    </tr>\n    <tr>\n      <th>1</th>\n      <td>29</td>\n      <td>521</td>\n      <td>1028</td>\n    </tr>\n    <tr>\n      <th>2</th>\n      <td>11</td>\n      <td>824</td>\n      <td>9358</td>\n    </tr>\n    <tr>\n      <th>3</th>\n      <td>36</td>\n      <td>959</td>\n      <td>6187</td>\n    </tr>\n    <tr>\n      <th>4</th>\n      <td>75</td>\n      <td>456</td>\n      <td>4016</td>\n    </tr>\n    <tr>\n      <th>...</th>\n      <td>...</td>\n      <td>...</td>\n      <td>...</td>\n    </tr>\n    <tr>\n      <th>99995</th>\n      <td>79</td>\n      <td>761</td>\n      <td>8817</td>\n    </tr>\n    <tr>\n      <th>99996</th>\n      <td>30</td>\n      <td>552</td>\n      <td>1773</td>\n    </tr>\n    <tr>\n      <th>99997</th>\n      <td>10</td>\n      <td>813</td>\n      <td>6158</td>\n    </tr>\n    <tr>\n      <th>99998</th>\n      <td>29</td>\n      <td>266</td>\n      <td>2864</td>\n    </tr>\n    <tr>\n      <th>99999</th>\n      <td>41</td>\n      <td>201</td>\n      <td>7175</td>\n    </tr>\n  </tbody>\n</table>\n<p>100000 rows × 3 columns</p>\n</div>"
          },
          "metadata": {}
        }
      ]
    },
    {
      "cell_type": "markdown",
      "source": "The `apply` function loops over every element and applies a scalar function. In this case, we will define a simple function in-place, using the lambda idiom. Our function takes an input `x`, squares it and returns the result. We can record how much time elapses using the `timeit` library.  ",
      "metadata": {
        "slideshow": {
          "slide_type": "skip"
        }
      }
    },
    {
      "cell_type": "code",
      "source": "%%timeit\n\ndf['rand_a'].apply(lambda x: x**2)",
      "metadata": {
        "slideshow": {
          "slide_type": "skip"
        },
        "trusted": true
      },
      "execution_count": 4,
      "outputs": [
        {
          "execution_count": 6,
          "output_type": "execute_result",
          "data": {
            "text/plain": "       rand_a  rand_b  rand_c\n0          35     815    4468\n1          29     521    1028\n2          11     824    9358\n3          36     959    6187\n4          75     456    4016\n...       ...     ...     ...\n99995      79     761    8817\n99996      30     552    1773\n99997      10     813    6158\n99998      29     266    2864\n99999      41     201    7175\n\n[100000 rows x 3 columns]",
            "text/html": "<div>\n<style scoped>\n    .dataframe tbody tr th:only-of-type {\n        vertical-align: middle;\n    }\n\n    .dataframe tbody tr th {\n        vertical-align: top;\n    }\n\n    .dataframe thead th {\n        text-align: right;\n    }\n</style>\n<table border=\"1\" class=\"dataframe\">\n  <thead>\n    <tr style=\"text-align: right;\">\n      <th></th>\n      <th>rand_a</th>\n      <th>rand_b</th>\n      <th>rand_c</th>\n    </tr>\n  </thead>\n  <tbody>\n    <tr>\n      <th>0</th>\n      <td>35</td>\n      <td>815</td>\n      <td>4468</td>\n    </tr>\n    <tr>\n      <th>1</th>\n      <td>29</td>\n      <td>521</td>\n      <td>1028</td>\n    </tr>\n    <tr>\n      <th>2</th>\n      <td>11</td>\n      <td>824</td>\n      <td>9358</td>\n    </tr>\n    <tr>\n      <th>3</th>\n      <td>36</td>\n      <td>959</td>\n      <td>6187</td>\n    </tr>\n    <tr>\n      <th>4</th>\n      <td>75</td>\n      <td>456</td>\n      <td>4016</td>\n    </tr>\n    <tr>\n      <th>...</th>\n      <td>...</td>\n      <td>...</td>\n      <td>...</td>\n    </tr>\n    <tr>\n      <th>99995</th>\n      <td>79</td>\n      <td>761</td>\n      <td>8817</td>\n    </tr>\n    <tr>\n      <th>99996</th>\n      <td>30</td>\n      <td>552</td>\n      <td>1773</td>\n    </tr>\n    <tr>\n      <th>99997</th>\n      <td>10</td>\n      <td>813</td>\n      <td>6158</td>\n    </tr>\n    <tr>\n      <th>99998</th>\n      <td>29</td>\n      <td>266</td>\n      <td>2864</td>\n    </tr>\n    <tr>\n      <th>99999</th>\n      <td>41</td>\n      <td>201</td>\n      <td>7175</td>\n    </tr>\n  </tbody>\n</table>\n<p>100000 rows × 3 columns</p>\n</div>"
          },
          "metadata": {}
        }
      ]
    },
    {
      "cell_type": "markdown",
      "source": "This took quite a while. Can we improve on this? Instead of sequentially operating on individual elements, we can make use of a so-called _vectorized_ operation that is optimized to work on a whole column at a time:",
      "metadata": {
        "slideshow": {
          "slide_type": "skip"
        }
      }
    },
    {
      "cell_type": "code",
      "source": "%%timeit\n\ndf['rand_a'] ** 2",
      "metadata": {
        "slideshow": {
          "slide_type": "skip"
        }
      },
      "execution_count": 22,
      "outputs": [
        {
          "name": "stdout",
          "output_type": "stream",
          "text": "189 µs ± 11.5 µs per loop (mean ± std. dev. of 7 runs, 10,000 loops each)\n"
        }
      ]
    },
    {
      "cell_type": "markdown",
      "source": "We are going to leave this topic with a slightly more complex example. This time, we want to find the difference between the largest and the smallest value in any given row. If we call the `apply` function on the whole Dataframe instead of a Series (see below) it will loop over all columns for every row, so the argument provided to our lambda function represents a row this time. The parameter `axis=1` indicates that we want to work on a row.",
      "metadata": {
        "slideshow": {
          "slide_type": "skip"
        }
      }
    },
    {
      "cell_type": "code",
      "source": "%%timeit \ndf.apply(lambda x: x.max() - x.min(), axis=1)",
      "metadata": {
        "slideshow": {
          "slide_type": "skip"
        }
      },
      "execution_count": 23,
      "outputs": [
        {
          "name": "stdout",
          "output_type": "stream",
          "text": "4.97 s ± 111 ms per loop (mean ± std. dev. of 7 runs, 1 loop each)\n"
        }
      ]
    },
    {
      "cell_type": "markdown",
      "source": "To optimize this we can use the vectorized operations for computing the max and min value for a row, then use another vecorized operation that subtracts one row value from the other:",
      "metadata": {
        "slideshow": {
          "slide_type": "skip"
        }
      }
    },
    {
      "cell_type": "code",
      "source": "%%timeit\n# refactor above code to use vectorized operations instead.\n\ndf.max(axis=1) - df.min(axis=1)",
      "metadata": {
        "code_folding": [],
        "slideshow": {
          "slide_type": "skip"
        }
      },
      "execution_count": 24,
      "outputs": [
        {
          "name": "stdout",
          "output_type": "stream",
          "text": "29.9 ms ± 5.02 ms per loop (mean ± std. dev. of 7 runs, 10 loops each)\n"
        }
      ]
    },
    {
      "cell_type": "markdown",
      "source": "### Data loading\nFinally, let's get our hands on a dataset to do some experiments on. We're going to need pandas and our dataset, which is stored as a `.csv` file at `data/penguins.csv` relative to this notebook.",
      "metadata": {
        "slideshow": {
          "slide_type": "skip"
        }
      }
    },
    {
      "cell_type": "code",
      "source": "penguins_df = pd.read_csv('data/penguins.csv')",
      "metadata": {
        "slideshow": {
          "slide_type": "skip"
        }
      },
      "execution_count": 25,
      "outputs": []
    },
    {
      "cell_type": "markdown",
      "source": "We can inspect the first five samples in our dataset:",
      "metadata": {
        "slideshow": {
          "slide_type": "skip"
        }
      }
    },
    {
      "cell_type": "code",
      "source": "penguins_df.head(5)",
      "metadata": {
        "slideshow": {
          "slide_type": "skip"
        }
      },
      "execution_count": 26,
      "outputs": [
        {
          "execution_count": 26,
          "output_type": "execute_result",
          "data": {
            "text/html": [
              "<div>\n",
              "<style scoped>\n",
              "    .dataframe tbody tr th:only-of-type {\n",
              "        vertical-align: middle;\n",
              "    }\n",
              "\n",
              "    .dataframe tbody tr th {\n",
              "        vertical-align: top;\n",
              "    }\n",
              "\n",
              "    .dataframe thead th {\n",
              "        text-align: right;\n",
              "    }\n",
              "</style>\n",
              "<table border=\"1\" class=\"dataframe\">\n",
              "  <thead>\n",
              "    <tr style=\"text-align: right;\">\n",
              "      <th></th>\n",
              "      <th>species</th>\n",
              "      <th>island</th>\n",
              "      <th>bill_length_mm</th>\n",
              "      <th>bill_depth_mm</th>\n",
              "      <th>flipper_length_mm</th>\n",
              "      <th>body_mass_g</th>\n",
              "      <th>sex</th>\n",
              "    </tr>\n",
              "  </thead>\n",
              "  <tbody>\n",
              "    <tr>\n",
              "      <th>0</th>\n",
              "      <td>Adelie</td>\n",
              "      <td>Torgersen</td>\n",
              "      <td>39.1</td>\n",
              "      <td>18.7</td>\n",
              "      <td>181</td>\n",
              "      <td>3750</td>\n",
              "      <td>MALE</td>\n",
              "    </tr>\n",
              "    <tr>\n",
              "      <th>1</th>\n",
              "      <td>Adelie</td>\n",
              "      <td>Torgersen</td>\n",
              "      <td>39.5</td>\n",
              "      <td>17.4</td>\n",
              "      <td>186</td>\n",
              "      <td>3800</td>\n",
              "      <td>FEMALE</td>\n",
              "    </tr>\n",
              "    <tr>\n",
              "      <th>2</th>\n",
              "      <td>Adelie</td>\n",
              "      <td>Torgersen</td>\n",
              "      <td>40.3</td>\n",
              "      <td>18.0</td>\n",
              "      <td>195</td>\n",
              "      <td>3250</td>\n",
              "      <td>FEMALE</td>\n",
              "    </tr>\n",
              "    <tr>\n",
              "      <th>3</th>\n",
              "      <td>Adelie</td>\n",
              "      <td>Torgersen</td>\n",
              "      <td>36.7</td>\n",
              "      <td>19.3</td>\n",
              "      <td>193</td>\n",
              "      <td>3450</td>\n",
              "      <td>FEMALE</td>\n",
              "    </tr>\n",
              "    <tr>\n",
              "      <th>4</th>\n",
              "      <td>Adelie</td>\n",
              "      <td>Torgersen</td>\n",
              "      <td>39.3</td>\n",
              "      <td>20.6</td>\n",
              "      <td>190</td>\n",
              "      <td>3650</td>\n",
              "      <td>MALE</td>\n",
              "    </tr>\n",
              "  </tbody>\n",
              "</table>\n",
              "</div>"
            ],
            "text/plain": [
              "  species     island  bill_length_mm  bill_depth_mm  flipper_length_mm  \\\n",
              "0  Adelie  Torgersen            39.1           18.7                181   \n",
              "1  Adelie  Torgersen            39.5           17.4                186   \n",
              "2  Adelie  Torgersen            40.3           18.0                195   \n",
              "3  Adelie  Torgersen            36.7           19.3                193   \n",
              "4  Adelie  Torgersen            39.3           20.6                190   \n",
              "\n",
              "   body_mass_g     sex  \n",
              "0         3750    MALE  \n",
              "1         3800  FEMALE  \n",
              "2         3250  FEMALE  \n",
              "3         3450  FEMALE  \n",
              "4         3650    MALE  "
            ]
          },
          "metadata": {}
        }
      ]
    },
    {
      "cell_type": "markdown",
      "source": "### Slicing",
      "metadata": {
        "slideshow": {
          "slide_type": "skip"
        }
      }
    },
    {
      "cell_type": "code",
      "source": "penguins_df[2:5]",
      "metadata": {
        "slideshow": {
          "slide_type": "skip"
        }
      },
      "execution_count": 27,
      "outputs": [
        {
          "execution_count": 27,
          "output_type": "execute_result",
          "data": {
            "text/html": [
              "<div>\n",
              "<style scoped>\n",
              "    .dataframe tbody tr th:only-of-type {\n",
              "        vertical-align: middle;\n",
              "    }\n",
              "\n",
              "    .dataframe tbody tr th {\n",
              "        vertical-align: top;\n",
              "    }\n",
              "\n",
              "    .dataframe thead th {\n",
              "        text-align: right;\n",
              "    }\n",
              "</style>\n",
              "<table border=\"1\" class=\"dataframe\">\n",
              "  <thead>\n",
              "    <tr style=\"text-align: right;\">\n",
              "      <th></th>\n",
              "      <th>species</th>\n",
              "      <th>island</th>\n",
              "      <th>bill_length_mm</th>\n",
              "      <th>bill_depth_mm</th>\n",
              "      <th>flipper_length_mm</th>\n",
              "      <th>body_mass_g</th>\n",
              "      <th>sex</th>\n",
              "    </tr>\n",
              "  </thead>\n",
              "  <tbody>\n",
              "    <tr>\n",
              "      <th>2</th>\n",
              "      <td>Adelie</td>\n",
              "      <td>Torgersen</td>\n",
              "      <td>40.3</td>\n",
              "      <td>18.0</td>\n",
              "      <td>195</td>\n",
              "      <td>3250</td>\n",
              "      <td>FEMALE</td>\n",
              "    </tr>\n",
              "    <tr>\n",
              "      <th>3</th>\n",
              "      <td>Adelie</td>\n",
              "      <td>Torgersen</td>\n",
              "      <td>36.7</td>\n",
              "      <td>19.3</td>\n",
              "      <td>193</td>\n",
              "      <td>3450</td>\n",
              "      <td>FEMALE</td>\n",
              "    </tr>\n",
              "    <tr>\n",
              "      <th>4</th>\n",
              "      <td>Adelie</td>\n",
              "      <td>Torgersen</td>\n",
              "      <td>39.3</td>\n",
              "      <td>20.6</td>\n",
              "      <td>190</td>\n",
              "      <td>3650</td>\n",
              "      <td>MALE</td>\n",
              "    </tr>\n",
              "  </tbody>\n",
              "</table>\n",
              "</div>"
            ],
            "text/plain": [
              "  species     island  bill_length_mm  bill_depth_mm  flipper_length_mm  \\\n",
              "2  Adelie  Torgersen            40.3           18.0                195   \n",
              "3  Adelie  Torgersen            36.7           19.3                193   \n",
              "4  Adelie  Torgersen            39.3           20.6                190   \n",
              "\n",
              "   body_mass_g     sex  \n",
              "2         3250  FEMALE  \n",
              "3         3450  FEMALE  \n",
              "4         3650    MALE  "
            ]
          },
          "metadata": {}
        }
      ]
    },
    {
      "cell_type": "markdown",
      "source": "Apart from the python-based indexing, Pandas offers its own access function `loc`. We can also specify the column names that we want to retrieve. Note how we have one more line than the python-based indexing method returned. The reason is that Pandas includes the endpoint for slices. In this case, the index is numeric, but it could also contain datetimes or be object based. Pandas does not consider index positions, but labels and the slice returns both specified labels and everything in between.",
      "metadata": {
        "slideshow": {
          "slide_type": "skip"
        }
      }
    },
    {
      "cell_type": "markdown",
      "source": "penguins_df.loc[2:5,['sex', 'flipper_length_mm']]",
      "metadata": {
        "slideshow": {
          "slide_type": "skip"
        }
      }
    },
    {
      "cell_type": "markdown",
      "source": "A Pandas Dataframe is a collection of columns with a shared index. Every column is represented by a Series, which is basically a numpy array with an index. If we access a single column, Pandas will thus return a Series object, if we have multiple columns, it returns a DataFrame.",
      "metadata": {
        "slideshow": {
          "slide_type": "skip"
        }
      }
    },
    {
      "cell_type": "code",
      "source": "penguins_df.loc[:, 'island']",
      "metadata": {
        "slideshow": {
          "slide_type": "skip"
        }
      },
      "execution_count": 31,
      "outputs": [
        {
          "execution_count": 31,
          "output_type": "execute_result",
          "data": {
            "text/plain": [
              "0      Torgersen\n",
              "1      Torgersen\n",
              "2      Torgersen\n",
              "3      Torgersen\n",
              "4      Torgersen\n",
              "         ...    \n",
              "337       Biscoe\n",
              "338       Biscoe\n",
              "339       Biscoe\n",
              "340       Biscoe\n",
              "341       Biscoe\n",
              "Name: island, Length: 342, dtype: object"
            ]
          },
          "metadata": {}
        }
      ]
    },
    {
      "cell_type": "markdown",
      "source": "On a Series object you can also access all elements in reverse or just every $n^{th}$ object, as you would be able to do on a numpy array:",
      "metadata": {
        "slideshow": {
          "slide_type": "skip"
        }
      }
    },
    {
      "cell_type": "code",
      "source": "penguins_df.loc[:, 'island'][::-1]",
      "metadata": {
        "slideshow": {
          "slide_type": "skip"
        }
      },
      "execution_count": 32,
      "outputs": [
        {
          "execution_count": 32,
          "output_type": "execute_result",
          "data": {
            "text/plain": [
              "341       Biscoe\n",
              "340       Biscoe\n",
              "339       Biscoe\n",
              "338       Biscoe\n",
              "337       Biscoe\n",
              "         ...    \n",
              "4      Torgersen\n",
              "3      Torgersen\n",
              "2      Torgersen\n",
              "1      Torgersen\n",
              "0      Torgersen\n",
              "Name: island, Length: 342, dtype: object"
            ]
          },
          "metadata": {}
        }
      ]
    },
    {
      "cell_type": "markdown",
      "source": "In fact, let's access the underlying numpy array and try to retrieve every $5^{th}$ object:",
      "metadata": {
        "slideshow": {
          "slide_type": "skip"
        }
      }
    },
    {
      "cell_type": "code",
      "source": "penguins_df.loc[:,'island'].to_numpy()[::5]",
      "metadata": {
        "slideshow": {
          "slide_type": "skip"
        }
      },
      "execution_count": 33,
      "outputs": [
        {
          "execution_count": 33,
          "output_type": "execute_result",
          "data": {
            "text/plain": [
              "array(['Torgersen', 'Torgersen', 'Torgersen', 'Torgersen', 'Biscoe',\n",
              "       'Biscoe', 'Dream', 'Dream', 'Dream', 'Dream', 'Biscoe', 'Biscoe',\n",
              "       'Biscoe', 'Biscoe', 'Torgersen', 'Torgersen', 'Torgersen', 'Dream',\n",
              "       'Dream', 'Dream', 'Biscoe', 'Biscoe', 'Biscoe', 'Torgersen',\n",
              "       'Torgersen', 'Torgersen', 'Torgersen', 'Dream', 'Dream', 'Dream',\n",
              "       'Dream', 'Dream', 'Dream', 'Dream', 'Dream', 'Dream', 'Dream',\n",
              "       'Dream', 'Dream', 'Dream', 'Dream', 'Dream', 'Dream', 'Dream',\n",
              "       'Biscoe', 'Biscoe', 'Biscoe', 'Biscoe', 'Biscoe', 'Biscoe',\n",
              "       'Biscoe', 'Biscoe', 'Biscoe', 'Biscoe', 'Biscoe', 'Biscoe',\n",
              "       'Biscoe', 'Biscoe', 'Biscoe', 'Biscoe', 'Biscoe', 'Biscoe',\n",
              "       'Biscoe', 'Biscoe', 'Biscoe', 'Biscoe', 'Biscoe', 'Biscoe',\n",
              "       'Biscoe'], dtype=object)"
            ]
          },
          "metadata": {}
        }
      ]
    },
    {
      "cell_type": "markdown",
      "source": "Note how the index has disappeared!\n\n---\nNow for some filtering example, let's find all entries where the recorded bill length exceeds 40 mm.",
      "metadata": {
        "slideshow": {
          "slide_type": "skip"
        }
      }
    },
    {
      "cell_type": "code",
      "source": "penguins_df.loc[:, 'bill_length_mm'] > 40.0",
      "metadata": {
        "slideshow": {
          "slide_type": "skip"
        }
      },
      "execution_count": 34,
      "outputs": [
        {
          "execution_count": 34,
          "output_type": "execute_result",
          "data": {
            "text/plain": [
              "0      False\n",
              "1      False\n",
              "2       True\n",
              "3      False\n",
              "4      False\n",
              "       ...  \n",
              "337     True\n",
              "338     True\n",
              "339     True\n",
              "340     True\n",
              "341     True\n",
              "Name: bill_length_mm, Length: 342, dtype: bool"
            ]
          },
          "metadata": {}
        }
      ]
    },
    {
      "cell_type": "markdown",
      "source": "Great, that worked! But it is a little cumbersome to compare for every entry if the comparison holds true by hand. Instead, we can index a Dataframe or Series object with a boolean array. Maybe for our analysis, we also only care to know the `species`, `island`, as well as the `beak_length_mm` for every match. So let's retrieve a slice of columns. ",
      "metadata": {
        "slideshow": {
          "slide_type": "skip"
        }
      }
    },
    {
      "cell_type": "code",
      "source": "# index the dataframe with the boolean array and restrict the columns to species, island and beak_length_mm\n\npenguins_df.loc[penguins_df.loc[:, 'bill_length_mm'] > 40.0, 'species':'bill_length_mm']",
      "metadata": {
        "code_folding": [],
        "slideshow": {
          "slide_type": "skip"
        }
      },
      "execution_count": 35,
      "outputs": [
        {
          "execution_count": 35,
          "output_type": "execute_result",
          "data": {
            "text/html": [
              "<div>\n",
              "<style scoped>\n",
              "    .dataframe tbody tr th:only-of-type {\n",
              "        vertical-align: middle;\n",
              "    }\n",
              "\n",
              "    .dataframe tbody tr th {\n",
              "        vertical-align: top;\n",
              "    }\n",
              "\n",
              "    .dataframe thead th {\n",
              "        text-align: right;\n",
              "    }\n",
              "</style>\n",
              "<table border=\"1\" class=\"dataframe\">\n",
              "  <thead>\n",
              "    <tr style=\"text-align: right;\">\n",
              "      <th></th>\n",
              "      <th>species</th>\n",
              "      <th>island</th>\n",
              "      <th>bill_length_mm</th>\n",
              "    </tr>\n",
              "  </thead>\n",
              "  <tbody>\n",
              "    <tr>\n",
              "      <th>2</th>\n",
              "      <td>Adelie</td>\n",
              "      <td>Torgersen</td>\n",
              "      <td>40.3</td>\n",
              "    </tr>\n",
              "    <tr>\n",
              "      <th>8</th>\n",
              "      <td>Adelie</td>\n",
              "      <td>Torgersen</td>\n",
              "      <td>42.0</td>\n",
              "    </tr>\n",
              "    <tr>\n",
              "      <th>11</th>\n",
              "      <td>Adelie</td>\n",
              "      <td>Torgersen</td>\n",
              "      <td>41.1</td>\n",
              "    </tr>\n",
              "    <tr>\n",
              "      <th>16</th>\n",
              "      <td>Adelie</td>\n",
              "      <td>Torgersen</td>\n",
              "      <td>42.5</td>\n",
              "    </tr>\n",
              "    <tr>\n",
              "      <th>18</th>\n",
              "      <td>Adelie</td>\n",
              "      <td>Torgersen</td>\n",
              "      <td>46.0</td>\n",
              "    </tr>\n",
              "    <tr>\n",
              "      <th>...</th>\n",
              "      <td>...</td>\n",
              "      <td>...</td>\n",
              "      <td>...</td>\n",
              "    </tr>\n",
              "    <tr>\n",
              "      <th>337</th>\n",
              "      <td>Gentoo</td>\n",
              "      <td>Biscoe</td>\n",
              "      <td>47.2</td>\n",
              "    </tr>\n",
              "    <tr>\n",
              "      <th>338</th>\n",
              "      <td>Gentoo</td>\n",
              "      <td>Biscoe</td>\n",
              "      <td>46.8</td>\n",
              "    </tr>\n",
              "    <tr>\n",
              "      <th>339</th>\n",
              "      <td>Gentoo</td>\n",
              "      <td>Biscoe</td>\n",
              "      <td>50.4</td>\n",
              "    </tr>\n",
              "    <tr>\n",
              "      <th>340</th>\n",
              "      <td>Gentoo</td>\n",
              "      <td>Biscoe</td>\n",
              "      <td>45.2</td>\n",
              "    </tr>\n",
              "    <tr>\n",
              "      <th>341</th>\n",
              "      <td>Gentoo</td>\n",
              "      <td>Biscoe</td>\n",
              "      <td>49.9</td>\n",
              "    </tr>\n",
              "  </tbody>\n",
              "</table>\n",
              "<p>242 rows × 3 columns</p>\n",
              "</div>"
            ],
            "text/plain": [
              "    species     island  bill_length_mm\n",
              "2    Adelie  Torgersen            40.3\n",
              "8    Adelie  Torgersen            42.0\n",
              "11   Adelie  Torgersen            41.1\n",
              "16   Adelie  Torgersen            42.5\n",
              "18   Adelie  Torgersen            46.0\n",
              "..      ...        ...             ...\n",
              "337  Gentoo     Biscoe            47.2\n",
              "338  Gentoo     Biscoe            46.8\n",
              "339  Gentoo     Biscoe            50.4\n",
              "340  Gentoo     Biscoe            45.2\n",
              "341  Gentoo     Biscoe            49.9\n",
              "\n",
              "[242 rows x 3 columns]"
            ]
          },
          "metadata": {}
        }
      ]
    },
    {
      "cell_type": "markdown",
      "source": "### Feature analysis\n\nWe want to create a plot at the end of this chapter. We are going to use the `plotly` library. As you can see below, we import the `plotly.express` module. It gives enough flexibility for most simple use-cases (see the [plotly.express documentation](https://plotly.com/python/plotly-express/)). The plotly library produces interactive (HTML) plots that can be displayed directly in Jupyter notebooks or open in a new browser tab. For more advanced control over your plots, you'll need to use the lower-level plotly functionalities. [Plotly Fundamentals](https://plotly.com/python/plotly-fundamentals/) is a good place to start diving deeper.",
      "metadata": {
        "slideshow": {
          "slide_type": "skip"
        }
      }
    },
    {
      "cell_type": "code",
      "source": "import plotly.express as px\n\nfrom sklearn import decomposition",
      "metadata": {
        "slideshow": {
          "slide_type": "skip"
        }
      },
      "execution_count": 36,
      "outputs": []
    },
    {
      "cell_type": "markdown",
      "source": "Let's separate the features $X$ from the target data $y$. For this example, we will just be using the numerical feature dimensions.",
      "metadata": {
        "slideshow": {
          "slide_type": "skip"
        }
      }
    },
    {
      "cell_type": "code",
      "source": "X = penguins_df.loc[:, ['bill_length_mm', 'bill_depth_mm', 'flipper_length_mm', 'body_mass_g']]\ny = penguins_df.loc[:,'species']",
      "metadata": {
        "slideshow": {
          "slide_type": "skip"
        }
      },
      "execution_count": 37,
      "outputs": []
    },
    {
      "cell_type": "markdown",
      "source": "Note that while the subset of (feature) columns taken from the original pandas Dataframe still form a Dataframe, the single column that indicates the target values ($y$) now is of type Series. ",
      "metadata": {
        "slideshow": {
          "slide_type": "skip"
        }
      }
    },
    {
      "cell_type": "code",
      "source": "X",
      "metadata": {
        "slideshow": {
          "slide_type": "skip"
        }
      },
      "execution_count": 38,
      "outputs": [
        {
          "execution_count": 38,
          "output_type": "execute_result",
          "data": {
            "text/html": [
              "<div>\n",
              "<style scoped>\n",
              "    .dataframe tbody tr th:only-of-type {\n",
              "        vertical-align: middle;\n",
              "    }\n",
              "\n",
              "    .dataframe tbody tr th {\n",
              "        vertical-align: top;\n",
              "    }\n",
              "\n",
              "    .dataframe thead th {\n",
              "        text-align: right;\n",
              "    }\n",
              "</style>\n",
              "<table border=\"1\" class=\"dataframe\">\n",
              "  <thead>\n",
              "    <tr style=\"text-align: right;\">\n",
              "      <th></th>\n",
              "      <th>bill_length_mm</th>\n",
              "      <th>bill_depth_mm</th>\n",
              "      <th>flipper_length_mm</th>\n",
              "      <th>body_mass_g</th>\n",
              "    </tr>\n",
              "  </thead>\n",
              "  <tbody>\n",
              "    <tr>\n",
              "      <th>0</th>\n",
              "      <td>39.1</td>\n",
              "      <td>18.7</td>\n",
              "      <td>181</td>\n",
              "      <td>3750</td>\n",
              "    </tr>\n",
              "    <tr>\n",
              "      <th>1</th>\n",
              "      <td>39.5</td>\n",
              "      <td>17.4</td>\n",
              "      <td>186</td>\n",
              "      <td>3800</td>\n",
              "    </tr>\n",
              "    <tr>\n",
              "      <th>2</th>\n",
              "      <td>40.3</td>\n",
              "      <td>18.0</td>\n",
              "      <td>195</td>\n",
              "      <td>3250</td>\n",
              "    </tr>\n",
              "    <tr>\n",
              "      <th>3</th>\n",
              "      <td>36.7</td>\n",
              "      <td>19.3</td>\n",
              "      <td>193</td>\n",
              "      <td>3450</td>\n",
              "    </tr>\n",
              "    <tr>\n",
              "      <th>4</th>\n",
              "      <td>39.3</td>\n",
              "      <td>20.6</td>\n",
              "      <td>190</td>\n",
              "      <td>3650</td>\n",
              "    </tr>\n",
              "    <tr>\n",
              "      <th>...</th>\n",
              "      <td>...</td>\n",
              "      <td>...</td>\n",
              "      <td>...</td>\n",
              "      <td>...</td>\n",
              "    </tr>\n",
              "    <tr>\n",
              "      <th>337</th>\n",
              "      <td>47.2</td>\n",
              "      <td>13.7</td>\n",
              "      <td>214</td>\n",
              "      <td>4925</td>\n",
              "    </tr>\n",
              "    <tr>\n",
              "      <th>338</th>\n",
              "      <td>46.8</td>\n",
              "      <td>14.3</td>\n",
              "      <td>215</td>\n",
              "      <td>4850</td>\n",
              "    </tr>\n",
              "    <tr>\n",
              "      <th>339</th>\n",
              "      <td>50.4</td>\n",
              "      <td>15.7</td>\n",
              "      <td>222</td>\n",
              "      <td>5750</td>\n",
              "    </tr>\n",
              "    <tr>\n",
              "      <th>340</th>\n",
              "      <td>45.2</td>\n",
              "      <td>14.8</td>\n",
              "      <td>212</td>\n",
              "      <td>5200</td>\n",
              "    </tr>\n",
              "    <tr>\n",
              "      <th>341</th>\n",
              "      <td>49.9</td>\n",
              "      <td>16.1</td>\n",
              "      <td>213</td>\n",
              "      <td>5400</td>\n",
              "    </tr>\n",
              "  </tbody>\n",
              "</table>\n",
              "<p>342 rows × 4 columns</p>\n",
              "</div>"
            ],
            "text/plain": [
              "     bill_length_mm  bill_depth_mm  flipper_length_mm  body_mass_g\n",
              "0              39.1           18.7                181         3750\n",
              "1              39.5           17.4                186         3800\n",
              "2              40.3           18.0                195         3250\n",
              "3              36.7           19.3                193         3450\n",
              "4              39.3           20.6                190         3650\n",
              "..              ...            ...                ...          ...\n",
              "337            47.2           13.7                214         4925\n",
              "338            46.8           14.3                215         4850\n",
              "339            50.4           15.7                222         5750\n",
              "340            45.2           14.8                212         5200\n",
              "341            49.9           16.1                213         5400\n",
              "\n",
              "[342 rows x 4 columns]"
            ]
          },
          "metadata": {}
        }
      ]
    },
    {
      "cell_type": "markdown",
      "source": "We are going to use sklearn's implementation of principal component analysis, see the documentation [here](https://scikit-learn.org/stable/modules/generated/sklearn.decomposition.PCA.html).",
      "metadata": {
        "slideshow": {
          "slide_type": "skip"
        }
      }
    },
    {
      "cell_type": "code",
      "source": "# project the input data to a lower dimensional representation, keeping 3 principal components.\npca = decomposition.PCA(n_components=3)\npca.fit(X)\nprincipal_comps = pca.transform(X)",
      "metadata": {
        "code_folding": [],
        "slideshow": {
          "slide_type": "skip"
        }
      },
      "execution_count": 39,
      "outputs": []
    },
    {
      "cell_type": "code",
      "source": "principal_comps",
      "metadata": {
        "slideshow": {
          "slide_type": "skip"
        }
      },
      "execution_count": 40,
      "outputs": [
        {
          "execution_count": 40,
          "output_type": "execute_result",
          "data": {
            "text/plain": [
              "array([[-4.52023209e+02,  1.33366364e+01,  1.14798019e+00],\n",
              "       [-4.01949980e+02,  9.15269401e+00, -9.03734153e-02],\n",
              "       [-9.51740904e+02, -8.26147557e+00, -2.35184450e+00],\n",
              "       ...,\n",
              "       [ 1.54840123e+03,  2.39957316e+00,  9.98962243e-01],\n",
              "       [ 9.98297511e+02,  4.68961215e+00, -1.56098005e+00],\n",
              "       [ 1.19830521e+03,  5.57434574e+00,  2.93963322e+00]])"
            ]
          },
          "metadata": {}
        }
      ]
    },
    {
      "cell_type": "markdown",
      "source": "Note that `principal_comps` is no longer a pandas DataFrame, but a three-dimensional numpy array:",
      "metadata": {
        "slideshow": {
          "slide_type": "skip"
        }
      }
    },
    {
      "cell_type": "code",
      "source": "analyze_arr(principal_comps)",
      "metadata": {
        "slideshow": {
          "slide_type": "skip"
        }
      },
      "execution_count": 42,
      "outputs": [
        {
          "name": "stdout",
          "output_type": "stream",
          "text": "This numpy array has shape (342, 3) and data type float64.\n"
        }
      ]
    },
    {
      "cell_type": "markdown",
      "source": "Make a scatter plot for the transformed data. The color of each point reflects its target class. ",
      "metadata": {
        "slideshow": {
          "slide_type": "skip"
        }
      }
    },
    {
      "cell_type": "code",
      "source": "# plot the lower dimensional representation as a 3d-scatter plot using the plotly library.\n\nfig = px.scatter_3d(principal_comps, x=0, y=1, z=2, color=y, opacity=0.7)",
      "metadata": {
        "code_folding": [],
        "slideshow": {
          "slide_type": "skip"
        }
      },
      "execution_count": 43,
      "outputs": []
    },
    {
      "cell_type": "code",
      "source": "fig.show()",
      "metadata": {
        "slideshow": {
          "slide_type": "skip"
        }
      },
      "execution_count": 45,
      "outputs": []
    },
    {
      "cell_type": "markdown",
      "source": "Now, to wrap up this session: **Create a python script** `py_intro_1.py` **that produces above plot** when called from the command line:\n```\n(bda) > python py_intro_1.py\n```",
      "metadata": {
        "slideshow": {
          "slide_type": "skip"
        }
      }
    },
    {
      "cell_type": "code",
      "source": "",
      "metadata": {
        "slideshow": {
          "slide_type": "skip"
        }
      },
      "execution_count": null,
      "outputs": []
    }
  ]
}